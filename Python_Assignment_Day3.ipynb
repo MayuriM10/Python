{
 "cells": [
  {
   "cell_type": "markdown",
   "metadata": {},
   "source": [
    "# 1. Use if else and elif to write a program in python for your report cards. "
   ]
  },
  {
   "cell_type": "code",
   "execution_count": 9,
   "metadata": {},
   "outputs": [],
   "source": [
    "student_Marks=70  # Total marks scored by student"
   ]
  },
  {
   "cell_type": "code",
   "execution_count": 49,
   "metadata": {},
   "outputs": [
    {
     "name": "stdout",
     "output_type": "stream",
     "text": [
      "Marks of the student are  70 and Student grade is\n",
      "B+\n"
     ]
    }
   ],
   "source": [
    "#  *****\n",
    "#   This Program is used to find the grade of the student based on the marks provieded as input.\n",
    "#   Grading is decided as below -\n",
    "#   if marks are greater than or equal to 90, then grade is A+\n",
    "#   if marks are between 80 and 90 or 80, then grade is A\n",
    "#   if marks are between 70 and 80 or 70, then grade is B+\n",
    "#   if marks are between 50 and 70 or 50, then grade is C\n",
    "#   if marks are between 35 and 50 or 35, then grade is D\n",
    "#   if marks are less than 35, then fail\n",
    "#  *****\n",
    "\n",
    "marks = student_Marks     #copying student marks to marks variable\n",
    "print(\"Marks of the student are \", marks ,\"and Student grade is\")\n",
    "if marks>= 90:\n",
    "        print(\"A+\")\n",
    "elif marks >= 80 and marks < 90:\n",
    "        print(\"A\")\n",
    "elif marks >= 70 and marks< 80:\n",
    "        print(\"B+\")\n",
    "elif marks >= 50 and marks < 70:\n",
    "        print(\"C\")\n",
    "elif marks >= 35 and marks < 50:\n",
    "        print(\"D\")\n",
    "else: \n",
    "        print(\"Fail\")\n",
    "    "
   ]
  },
  {
   "cell_type": "markdown",
   "metadata": {},
   "source": [
    "# 2.Use for loop to print prime numbers in between 1 to 1000 "
   ]
  },
  {
   "cell_type": "code",
   "execution_count": 48,
   "metadata": {
    "scrolled": true
   },
   "outputs": [
    {
     "name": "stdout",
     "output_type": "stream",
     "text": [
      "primes number between 1 and 1000 are displayed below ==> \n",
      "[2, 3, 5, 7, 11, 13, 17, 19, 23, 29, 31, 37, 41, 43, 47, 53, 59, 61, 67, 71, 73, 79, 83, 89, 97, 101, 103, 107, 109, 113, 127, 131, 137, 139, 149, 151, 157, 163, 167, 173, 179, 181, 191, 193, 197, 199, 211, 223, 227, 229, 233, 239, 241, 251, 257, 263, 269, 271, 277, 281, 283, 293, 307, 311, 313, 317, 331, 337, 347, 349, 353, 359, 367, 373, 379, 383, 389, 397, 401, 409, 419, 421, 431, 433, 439, 443, 449, 457, 461, 463, 467, 479, 487, 491, 499, 503, 509, 521, 523, 541, 547, 557, 563, 569, 571, 577, 587, 593, 599, 601, 607, 613, 617, 619, 631, 641, 643, 647, 653, 659, 661, 673, 677, 683, 691, 701, 709, 719, 727, 733, 739, 743, 751, 757, 761, 769, 773, 787, 797, 809, 811, 821, 823, 827, 829, 839, 853, 857, 859, 863, 877, 881, 883, 887, 907, 911, 919, 929, 937, 941, 947, 953, 967, 971, 977, 983, 991, 997]\n"
     ]
    }
   ],
   "source": [
    "#  ****\n",
    "#  This program is used to display prime number between 1 to 1000 by using for loops\n",
    "#  1. 2 is alreday prime nbr. So add the nbr 2 in the primes list variable.\n",
    "#  2. divide each number in the range from 3 to 1000 by the numbers less than that partucular number. If that partuular number is divisible\n",
    "#     divisible by the numbers less than that then that particular is not prime number and don't append to primes list \n",
    "#     else append the partucular nbr to primes list. Use some boolean indicator to identify particular number is divided by the \n",
    "#     numbers less than that.\n",
    "#     Eg: divide the nbr say 11 by all the numbers less than 11 ie., from 2 to 10. since 11 is not divisible by the numbers from 2 to 10,\n",
    "#         append number 11 to primes list.\n",
    "#         divide the nbr say 10 by all the numbers less than 10 ie., from 2 to 9. since 10 is  divisible by the number 2,\n",
    "#         don't append number 10 to primes list.\n",
    "#  ****\n",
    "\n",
    "primes = [2]\n",
    "for i in range(1,1000):\n",
    "    if i>2:\n",
    "        isPrime = True\n",
    "        for j in range(2,i):            \n",
    "            if((i%j)==0):\n",
    "                isPrime = False\n",
    "                break\n",
    "        if isPrime == True:\n",
    "            primes.append(i)\n",
    "print(\"primes number between 1 and 1000 are displayed below ==> \")\n",
    "print(primes)\n",
    "        \n",
    "            "
   ]
  },
  {
   "cell_type": "code",
   "execution_count": null,
   "metadata": {},
   "outputs": [],
   "source": []
  },
  {
   "cell_type": "markdown",
   "metadata": {},
   "source": [
    "# 3.Write a program for printing tables from 1 ,10 using nested for loop."
   ]
  },
  {
   "cell_type": "code",
   "execution_count": 11,
   "metadata": {},
   "outputs": [
    {
     "name": "stdout",
     "output_type": "stream",
     "text": [
      "1 * 1 = 1 \n",
      "1 * 2 = 2 \n",
      "1 * 3 = 3 \n",
      "1 * 4 = 4 \n",
      "1 * 5 = 5 \n",
      "1 * 6 = 6 \n",
      "1 * 7 = 7 \n",
      "1 * 8 = 8 \n",
      "1 * 9 = 9 \n",
      "1 * 10 = 10 \n",
      "2 * 1 = 2 \n",
      "2 * 2 = 4 \n",
      "2 * 3 = 6 \n",
      "2 * 4 = 8 \n",
      "2 * 5 = 10 \n",
      "2 * 6 = 12 \n",
      "2 * 7 = 14 \n",
      "2 * 8 = 16 \n",
      "2 * 9 = 18 \n",
      "2 * 10 = 20 \n",
      "3 * 1 = 3 \n",
      "3 * 2 = 6 \n",
      "3 * 3 = 9 \n",
      "3 * 4 = 12 \n",
      "3 * 5 = 15 \n",
      "3 * 6 = 18 \n",
      "3 * 7 = 21 \n",
      "3 * 8 = 24 \n",
      "3 * 9 = 27 \n",
      "3 * 10 = 30 \n",
      "4 * 1 = 4 \n",
      "4 * 2 = 8 \n",
      "4 * 3 = 12 \n",
      "4 * 4 = 16 \n",
      "4 * 5 = 20 \n",
      "4 * 6 = 24 \n",
      "4 * 7 = 28 \n",
      "4 * 8 = 32 \n",
      "4 * 9 = 36 \n",
      "4 * 10 = 40 \n",
      "5 * 1 = 5 \n",
      "5 * 2 = 10 \n",
      "5 * 3 = 15 \n",
      "5 * 4 = 20 \n",
      "5 * 5 = 25 \n",
      "5 * 6 = 30 \n",
      "5 * 7 = 35 \n",
      "5 * 8 = 40 \n",
      "5 * 9 = 45 \n",
      "5 * 10 = 50 \n",
      "6 * 1 = 6 \n",
      "6 * 2 = 12 \n",
      "6 * 3 = 18 \n",
      "6 * 4 = 24 \n",
      "6 * 5 = 30 \n",
      "6 * 6 = 36 \n",
      "6 * 7 = 42 \n",
      "6 * 8 = 48 \n",
      "6 * 9 = 54 \n",
      "6 * 10 = 60 \n",
      "7 * 1 = 7 \n",
      "7 * 2 = 14 \n",
      "7 * 3 = 21 \n",
      "7 * 4 = 28 \n",
      "7 * 5 = 35 \n",
      "7 * 6 = 42 \n",
      "7 * 7 = 49 \n",
      "7 * 8 = 56 \n",
      "7 * 9 = 63 \n",
      "7 * 10 = 70 \n",
      "8 * 1 = 8 \n",
      "8 * 2 = 16 \n",
      "8 * 3 = 24 \n",
      "8 * 4 = 32 \n",
      "8 * 5 = 40 \n",
      "8 * 6 = 48 \n",
      "8 * 7 = 56 \n",
      "8 * 8 = 64 \n",
      "8 * 9 = 72 \n",
      "8 * 10 = 80 \n",
      "9 * 1 = 9 \n",
      "9 * 2 = 18 \n",
      "9 * 3 = 27 \n",
      "9 * 4 = 36 \n",
      "9 * 5 = 45 \n",
      "9 * 6 = 54 \n",
      "9 * 7 = 63 \n",
      "9 * 8 = 72 \n",
      "9 * 9 = 81 \n",
      "9 * 10 = 90 \n",
      "10 * 1 = 10 \n",
      "10 * 2 = 20 \n",
      "10 * 3 = 30 \n",
      "10 * 4 = 40 \n",
      "10 * 5 = 50 \n",
      "10 * 6 = 60 \n",
      "10 * 7 = 70 \n",
      "10 * 8 = 80 \n",
      "10 * 9 = 90 \n",
      "10 * 10 = 100 \n"
     ]
    }
   ],
   "source": [
    "#  *****\n",
    "#   This Program is used to print tables from 1 to 10\n",
    "#  *****\n",
    "for i in range(1,11):\n",
    "    for j in range(1,11): \n",
    "        print(i ,\"*\", j ,\"=\", i*j,end=\" \")\n",
    "        print(\"\")"
   ]
  },
  {
   "cell_type": "markdown",
   "metadata": {},
   "source": [
    "# Write a program to printprime number using while loop starting from 0 and take input of x from the user"
   ]
  },
  {
   "cell_type": "code",
   "execution_count": 46,
   "metadata": {},
   "outputs": [
    {
     "name": "stdout",
     "output_type": "stream",
     "text": [
      "Enter integer number :78\n",
      "UserInput is :: 78\n",
      "Prime numbers below  78 are [2, 3, 5, 7, 11, 13, 17, 19, 23, 29, 31, 37, 41, 43, 47, 53, 59, 61, 67, 71, 73]\n"
     ]
    }
   ],
   "source": [
    "#     ******\n",
    "#     This Program is used to display the prime number below the number provided by user.\n",
    "#     1) define one list(example list name numbers) ranging from 2 to user input\n",
    "#     2) define one list(example list name primes) to store prime numbers \n",
    "#     3) check the numbers in the list numbers list which are divided by 1 and its own and move those nbrs to primes list\n",
    "#     4) Now , All the numbers in the primes list are prime numbers and display in console. \n",
    "#     ******\n",
    "\n",
    "UserInput=int(input(\"Enter integer number :\"))\n",
    "print(\"UserInput is ::\", UserInput)\n",
    "\n",
    "numbers = list(range(2,UserInput))  # defining numbers list  ranging from 2 to userinput.\n",
    "primes = []     # This primes list is used to add all prime numbers with in the range between 2 and user input.\n",
    "\n",
    "#looping based on the number of elements in numbers list. \n",
    "   #Below steps followed in while loop to identify prime numbers\n",
    "      # 1. extract zero index value in the numbers list and append that to primes list object and store it in prime variable\n",
    "      # 2. remove zero index value from the numbers list  \n",
    "      # 3. divide all the remaining values in the list by prime variabe value and remove all the values in the list which are divided by prime variabe value.  \n",
    "      # 4. Again loop the remaining numbers in the list and follow the above procedure from step 1 to 3.\n",
    "\n",
    "while len(numbers) > 0:\n",
    "    prime = numbers[0]\n",
    "    primes.append(prime) \n",
    "    \n",
    "    numbers = numbers[1:]  \n",
    "    for y in numbers[:]:\n",
    "        if (y%prime) == 0:\n",
    "            numbers.remove(y)\n",
    "print(\"Prime numbers below \",UserInput, \"are\" , primes)"
   ]
  }
 ],
 "metadata": {
  "kernelspec": {
   "display_name": "Python 3",
   "language": "python",
   "name": "python3"
  },
  "language_info": {
   "codemirror_mode": {
    "name": "ipython",
    "version": 3
   },
   "file_extension": ".py",
   "mimetype": "text/x-python",
   "name": "python",
   "nbconvert_exporter": "python",
   "pygments_lexer": "ipython3",
   "version": "3.8.5"
  }
 },
 "nbformat": 4,
 "nbformat_minor": 4
}
