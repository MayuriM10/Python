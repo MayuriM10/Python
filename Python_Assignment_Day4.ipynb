{
 "cells": [
  {
   "cell_type": "markdown",
   "metadata": {},
   "source": [
    "# write a program  to open a file and perform write,read and append operations."
   ]
  },
  {
   "cell_type": "code",
   "execution_count": 65,
   "metadata": {},
   "outputs": [
    {
     "name": "stdout",
     "output_type": "stream",
     "text": [
      "Result ::\n",
      "1) New file created and file name is 'Lets_upgrade.txt' \n",
      "2) Lets_upgrade.txt file content is   ==>>  It's  a amazing course to gain knowledge about coding, \n",
      "3) Lets_upgrade.txt file content after appending some more text is  ==>>  It's  a amazing course to gain knowledge about coding, and classes are going well.\n"
     ]
    }
   ],
   "source": [
    "# ***\n",
    "#    This program creates a new file and performes some modes (write,read,append) on it.\n",
    "#    1.perform write mode on the file\n",
    "#    2.perform read mode on the file\n",
    "#    3.print the content of the file\n",
    "#    4.perform append mode on the file\n",
    "#    5.again perform read mode on the file\n",
    "#    6.print the content of the file \n",
    "# ***\n",
    "xyz=open(\"Lets_upgrade.txt\",'w')\n",
    "xyz.write(\"It's  a amazing course to gain knowledge about coding, \")\n",
    "xyz.close()\n",
    "\n",
    "print(\"Result ::\")\n",
    "print(\"1) New file created and file name is 'Lets_upgrade.txt' \")\n",
    "\n",
    "xyz=open(\"Lets_upgrade.txt\",'r')\n",
    "content=xyz.read()\n",
    "xyz.close()\n",
    "\n",
    "print(\"2) Lets_upgrade.txt file content is   ==>> \",  content)\n",
    "\n",
    "xyz=open(\"Lets_upgrade.txt\",'a')\n",
    "xyz.write(\"and classes are going well.\")\n",
    "xyz.close()\n",
    "\n",
    "xyz=open(\"Lets_upgrade.txt\",'r')\n",
    "content=xyz.read()\n",
    "xyz.close()\n",
    "\n",
    "print(\"3) Lets_upgrade.txt file content after appending some more text is  ==>> \",  content)\n"
   ]
  },
  {
   "cell_type": "markdown",
   "metadata": {},
   "source": [
    "# Write the program to print factoral of number using function argument."
   ]
  },
  {
   "cell_type": "code",
   "execution_count": 66,
   "metadata": {},
   "outputs": [
    {
     "name": "stdout",
     "output_type": "stream",
     "text": [
      "Enter a number :7\n",
      "The factorial of the number ' 7 ' is: 5040\n"
     ]
    }
   ],
   "source": [
    "#***\n",
    "#   This program prints the factorial of the given number.The factorial of a number is the product of all the integers from 1 to that number\n",
    "#   take userinput.\n",
    "#   creat a function (e.g., fact()) and pass userinput as  a argument.\n",
    "#   write logic inside a function to find factorial of a number.\n",
    "#   print result.\n",
    "#***\n",
    "\n",
    "userInput=int(input(\"Enter a number :\"))\n",
    "\n",
    "def fact(n):\n",
    "    f=1\n",
    "    for i in range(1,n+1): # multipling all the numbers from 1 to  number entered by the user using for loop. \n",
    "        f=f*i\n",
    "    return f               # f stores the factorial of the  number entered by the user.\n",
    "result=fact(userInput)\n",
    "print(\"The factorial of the number '\",userInput,\"' is:\",result)             "
   ]
  }
 ],
 "metadata": {
  "kernelspec": {
   "display_name": "Python 3",
   "language": "python",
   "name": "python3"
  },
  "language_info": {
   "codemirror_mode": {
    "name": "ipython",
    "version": 3
   },
   "file_extension": ".py",
   "mimetype": "text/x-python",
   "name": "python",
   "nbconvert_exporter": "python",
   "pygments_lexer": "ipython3",
   "version": "3.8.5"
  }
 },
 "nbformat": 4,
 "nbformat_minor": 4
}
